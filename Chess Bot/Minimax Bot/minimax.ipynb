{
 "cells": [
  {
   "cell_type": "code",
   "execution_count": 21,
   "id": "31318b45",
   "metadata": {},
   "outputs": [
    {
     "name": "stdout",
     "output_type": "stream",
     "text": [
      ". . . . . . . .\n",
      ". . . . . . . .\n",
      ". . . . . . . .\n",
      ". . . . . . . .\n",
      ". . . . . . . .\n",
      ". . . . . . . .\n",
      ". . . . 1 . 1 .\n",
      ". . . . . . 1 .\n",
      "h2h4\n",
      "h4\n",
      "2594073385365405732\n",
      "q\n"
     ]
    }
   ],
   "source": [
    "import chess\n",
    "import random\n",
    "\n",
    "board = chess.Board()\n",
    "attackers = board.attackers(chess.WHITE, chess.F3)\n",
    "\n",
    "legal_moves = list(board.legal_moves)\n",
    "move = random.choice(legal_moves)\n",
    "\n",
    "print(attackers)\n",
    "print(move)\n",
    "print((str(move))[-2:])\n",
    "print(board.bishops)\n",
    "print(str(board.piece_at(chess.parse_square(\"d8\"))))"
   ]
  }
 ],
 "metadata": {
  "kernelspec": {
   "display_name": "Python 3",
   "language": "python",
   "name": "python3"
  },
  "language_info": {
   "codemirror_mode": {
    "name": "ipython",
    "version": 3
   },
   "file_extension": ".py",
   "mimetype": "text/x-python",
   "name": "python",
   "nbconvert_exporter": "python",
   "pygments_lexer": "ipython3",
   "version": "3.13.9"
  }
 },
 "nbformat": 4,
 "nbformat_minor": 5
}
